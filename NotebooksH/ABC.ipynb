{
 "cells": [
  {
   "cell_type": "code",
   "execution_count": 6,
   "id": "018f7cbc",
   "metadata": {},
   "outputs": [],
   "source": [
    "añadir :: a -> [a] -> [a]\n",
    "añadir a xs = a:xs"
   ]
  },
  {
   "cell_type": "code",
   "execution_count": 7,
   "id": "9390bdec",
   "metadata": {},
   "outputs": [
    {
     "data": {
      "text/plain": [
       "[3,4,6,7,8,9]"
      ]
     },
     "metadata": {},
     "output_type": "display_data"
    }
   ],
   "source": [
    "añadir 3 [4,6,7,8,9]"
   ]
  },
  {
   "cell_type": "code",
   "execution_count": 14,
   "id": "e05c1a20",
   "metadata": {},
   "outputs": [
    {
     "ename": "",
     "evalue": "",
     "output_type": "error",
     "traceback": [
      "Parse error (line 3, column 40): Parse error in pattern: sumaLista"
     ]
    }
   ],
   "source": [
    "sumaLista :: [Int] -> Int\n",
    "sumaLista [] = 0\n",
    "sumaLista x:[xs] = x + (sumaLista [xs])"
   ]
  },
  {
   "cell_type": "code",
   "execution_count": 15,
   "id": "811f4ca5",
   "metadata": {},
   "outputs": [
    {
     "data": {
      "text/plain": [
       "2"
      ]
     },
     "metadata": {},
     "output_type": "display_data"
    }
   ],
   "source": [
    "head [2, 3, 4]"
   ]
  },
  {
   "cell_type": "code",
   "execution_count": 16,
   "id": "a445dfe9",
   "metadata": {},
   "outputs": [
    {
     "data": {
      "text/plain": [
       "[3,4]"
      ]
     },
     "metadata": {},
     "output_type": "display_data"
    }
   ],
   "source": [
    "tail [2, 3, 4]"
   ]
  },
  {
   "cell_type": "code",
   "execution_count": 19,
   "id": "7e0ef4fa",
   "metadata": {},
   "outputs": [
    {
     "data": {
      "text/plain": [
       "[2,3,4]"
      ]
     },
     "metadata": {},
     "output_type": "display_data"
    }
   ],
   "source": [
    "head [2, 3, 4] : tail [2, 3, 4]"
   ]
  },
  {
   "cell_type": "code",
   "execution_count": null,
   "id": "d401ad4f",
   "metadata": {},
   "outputs": [],
   "source": []
  }
 ],
 "metadata": {
  "kernelspec": {
   "display_name": "Haskell",
   "language": "haskell",
   "name": "haskell"
  },
  "language_info": {
   "codemirror_mode": "ihaskell",
   "file_extension": ".hs",
   "mimetype": "text/x-haskell",
   "name": "haskell",
   "pygments_lexer": "Haskell",
   "version": "8.10.4"
  }
 },
 "nbformat": 4,
 "nbformat_minor": 5
}
